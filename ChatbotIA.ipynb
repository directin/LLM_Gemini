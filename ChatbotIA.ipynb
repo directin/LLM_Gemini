{
  "nbformat": 4,
  "nbformat_minor": 0,
  "metadata": {
    "colab": {
      "provenance": [],
      "authorship_tag": "ABX9TyOg8ftFj24or46pT1Z/CRnC",
      "include_colab_link": true
    },
    "kernelspec": {
      "name": "python3",
      "display_name": "Python 3"
    },
    "language_info": {
      "name": "python"
    }
  },
  "cells": [
    {
      "cell_type": "markdown",
      "metadata": {
        "id": "view-in-github",
        "colab_type": "text"
      },
      "source": [
        "<a href=\"https://colab.research.google.com/github/directin/LLM_Gemini/blob/main/ChatbotIA.ipynb\" target=\"_parent\"><img src=\"https://colab.research.google.com/assets/colab-badge.svg\" alt=\"Open In Colab\"/></a>"
      ]
    },
    {
      "cell_type": "code",
      "execution_count": null,
      "metadata": {
        "id": "uAokQV5-_iJn"
      },
      "outputs": [],
      "source": [
        "!pip install -q -U google-generativeai"
      ]
    },
    {
      "cell_type": "code",
      "source": [
        "# Or use `os.getenv('GOOGLE_API_KEY')` to fetch an environment variable.\n",
        "import google.generativeai as genai\n",
        "from google.colab import user_data\n",
        "api_key = userdata.get('SECRET_KEY')\n",
        "\n",
        "genai.configure(api_key=api_key)"
      ],
      "metadata": {
        "id": "KOhv4L1c_-4e"
      },
      "execution_count": 2,
      "outputs": []
    },
    {
      "cell_type": "code",
      "source": [
        "for m in genai.list_models():\n",
        "  if 'generateContent' in m.supported_generation_methods:\n",
        "    print(m.name)"
      ],
      "metadata": {
        "colab": {
          "base_uri": "https://localhost:8080/",
          "height": 139
        },
        "id": "t8iGsHlIAS0e",
        "outputId": "1f866f6d-aa9d-475a-df90-108f2a4ed592"
      },
      "execution_count": 3,
      "outputs": [
        {
          "output_type": "stream",
          "name": "stdout",
          "text": [
            "models/gemini-1.0-pro\n",
            "models/gemini-1.0-pro-001\n",
            "models/gemini-1.0-pro-latest\n",
            "models/gemini-1.0-pro-vision-latest\n",
            "models/gemini-1.5-pro-latest\n",
            "models/gemini-pro\n",
            "models/gemini-pro-vision\n"
          ]
        }
      ]
    },
    {
      "cell_type": "code",
      "source": [
        "generation_config = {\n",
        "    \"candidate_count\": 1,\n",
        "    \"temperature\": 0.5,\n",
        "}"
      ],
      "metadata": {
        "id": "JJ9seLDdCmxX"
      },
      "execution_count": 4,
      "outputs": []
    },
    {
      "cell_type": "code",
      "source": [
        "safety_settings = {\n",
        "    \"HARASSMENT\": \"BLOCK_NONE\",\n",
        "    \"HATE\":\"BLOCK_NONE\",\n",
        "    \"SEXUAL\":\"BLOCK_NONE\",\n",
        "    \"DANGEROUS\":\"BLOCK_NONE\"\n",
        "}"
      ],
      "metadata": {
        "id": "xsueDTBODO36"
      },
      "execution_count": 5,
      "outputs": []
    },
    {
      "cell_type": "code",
      "source": [
        "model = genai.GenerativeModel(model_name=\"gemini-1.0-pro\",\n",
        "                              generation_config=generation_config,\n",
        "                              safety_settings=safety_settings)"
      ],
      "metadata": {
        "id": "nYOC4D0kEP-Y"
      },
      "execution_count": 6,
      "outputs": []
    },
    {
      "cell_type": "code",
      "source": [
        "response = model.generate_content(\"vamos aprender conteudo IA GOOGLE\")\n",
        "print(response.text)"
      ],
      "metadata": {
        "colab": {
          "base_uri": "https://localhost:8080/",
          "height": 833
        },
        "id": "V0qMSEx5FgkZ",
        "outputId": "748bf552-52d7-433c-e59b-694126120065"
      },
      "execution_count": 7,
      "outputs": [
        {
          "output_type": "stream",
          "name": "stdout",
          "text": [
            "**Introdução à Inteligência Artificial (IA)**\n",
            "\n",
            "* Definição de IA e seus objetivos\n",
            "* Tipos de IA: IA estreita, IA geral e superinteligência\n",
            "* Aplicações da IA em vários setores\n",
            "\n",
            "**Aprendizado de Máquina (ML)**\n",
            "\n",
            "* Conceitos básicos de ML: dados, algoritmos e modelos\n",
            "* Tipos de algoritmos de ML: supervisionado, não supervisionado e por reforço\n",
            "* Processo de treinamento e avaliação de modelos de ML\n",
            "\n",
            "**Aprendizado Profundo (DL)**\n",
            "\n",
            "* Introdução ao DL e suas redes neurais\n",
            "* Arquiteturas de rede neural: Convolucional, Recorrente e Transformers\n",
            "* Aplicações de DL em visão computacional, processamento de linguagem natural e muito mais\n",
            "\n",
            "**Processamento de Linguagem Natural (PNL)**\n",
            "\n",
            "* Fundamentos do PNL: morfologia, sintaxe e semântica\n",
            "* Técnicas de PNL: tokenização, análise sintática e geração de linguagem\n",
            "* Aplicações de PNL em chatbots, tradução automática e resumo de texto\n",
            "\n",
            "**Visão Computacional (VC)**\n",
            "\n",
            "* Conceitos básicos de VC: imagens, pixels e representações\n",
            "* Técnicas de VC: detecção de objetos, reconhecimento de padrões e segmentação de imagem\n",
            "* Aplicações de VC em reconhecimento facial, veículos autônomos e análise de imagens médicas\n",
            "\n",
            "**Ética e Implicações Sociais da IA**\n",
            "\n",
            "* Questões éticas relacionadas ao uso de IA, como viés, privacidade e responsabilidade\n",
            "* Implicações sociais da IA, incluindo automação de empregos e desigualdade\n",
            "* Diretrizes e regulamentações para o desenvolvimento e uso responsável da IA\n",
            "\n",
            "**Ferramentas e Recursos para IA**\n",
            "\n",
            "* Introdução ao Google Cloud AI Platform\n",
            "* Bibliotecas de IA populares, como TensorFlow, PyTorch e scikit-learn\n",
            "* Recursos online e comunidades para aprendizado e colaboração em IA\n",
            "\n",
            "**Conclusão**\n",
            "\n",
            "* Resumo dos conceitos e aplicações principais da IA\n",
            "* Oportunidades e desafios futuros no campo da IA\n",
            "* Importância da ética e da regulamentação no desenvolvimento e uso da IA\n"
          ]
        }
      ]
    },
    {
      "cell_type": "code",
      "source": [
        "chat = model.start_chat(history=[])"
      ],
      "metadata": {
        "id": "-8AgE1udGBTC"
      },
      "execution_count": 10,
      "outputs": []
    },
    {
      "cell_type": "code",
      "source": [
        "prompt = input(\"esperando prompt:\")\n",
        "while prompt != \"fim\":\n",
        "  response = chat.send_message(prompt)\n",
        "  print(\"Resposta: \", response.text, \"\\n\")\n",
        "  prompt = input(\"esperando prompt:\")"
      ],
      "metadata": {
        "colab": {
          "base_uri": "https://localhost:8080/",
          "height": 277
        },
        "id": "U_0gIF2GHRbu",
        "outputId": "d8c1a057-c757-495a-e77f-c672b1e7ebec"
      },
      "execution_count": 13,
      "outputs": [
        {
          "name": "stdout",
          "output_type": "stream",
          "text": [
            "esperando prompt:qual a capital do butão\n",
            "Resposta:  Thimphu \n",
            "\n",
            "esperando prompt:qual a comida tipica desse pais\n",
            "Resposta:  Ema Datshi\n",
            "\n",
            "É um ensopado picante feito com pimentas e queijo. É o prato nacional do Butão e é geralmente servido com arroz. \n",
            "\n",
            "esperando prompt:qual a nacionalidade desse pais ?\n",
            "Resposta:  Butanesa \n",
            "\n",
            "esperando prompt:qual a população ?\n",
            "Resposta:  852.910 (estimativa de julho de 2023) \n",
            "\n",
            "esperando prompt:fim\n"
          ]
        }
      ]
    },
    {
      "cell_type": "code",
      "source": [
        "chat.history"
      ],
      "metadata": {
        "colab": {
          "base_uri": "https://localhost:8080/"
        },
        "id": "6f7b2YuQJoC3",
        "outputId": "187f9d72-d9a5-425c-ba97-8a314ade4596"
      },
      "execution_count": 14,
      "outputs": [
        {
          "output_type": "execute_result",
          "data": {
            "text/plain": [
              "[parts {\n",
              "   text: \"qual a capital do but\\303\\243o\"\n",
              " }\n",
              " role: \"user\",\n",
              " parts {\n",
              "   text: \"Thimphu\"\n",
              " }\n",
              " role: \"model\",\n",
              " parts {\n",
              "   text: \"qual a comida tipica desse pais\"\n",
              " }\n",
              " role: \"user\",\n",
              " parts {\n",
              "   text: \"Ema Datshi\\n\\n\\303\\211 um ensopado picante feito com pimentas e queijo. \\303\\211 o prato nacional do But\\303\\243o e \\303\\251 geralmente servido com arroz.\"\n",
              " }\n",
              " role: \"model\",\n",
              " parts {\n",
              "   text: \"qual a nacionalidade desse pais ?\"\n",
              " }\n",
              " role: \"user\",\n",
              " parts {\n",
              "   text: \"Butanesa\"\n",
              " }\n",
              " role: \"model\",\n",
              " parts {\n",
              "   text: \"qual a popula\\303\\247\\303\\243o ?\"\n",
              " }\n",
              " role: \"user\",\n",
              " parts {\n",
              "   text: \"852.910 (estimativa de julho de 2023)\"\n",
              " }\n",
              " role: \"model\"]"
            ]
          },
          "metadata": {},
          "execution_count": 14
        }
      ]
    }
  ]
}